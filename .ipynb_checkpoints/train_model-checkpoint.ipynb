{
 "cells": [
  {
   "cell_type": "code",
   "execution_count": 1,
   "metadata": {},
   "outputs": [
    {
     "name": "stderr",
     "output_type": "stream",
     "text": [
      "Using TensorFlow backend.\n"
     ]
    }
   ],
   "source": [
    "import os\n",
    "import numpy as np\n",
    "from keras.models import Sequential\n",
    "from keras.layers import Activation, Dropout, Flatten, Dense\n",
    "from keras.preprocessing.image import ImageDataGenerator\n",
    "from keras.preprocessing import image\n",
    "from keras.layers import Convolution2D, MaxPooling2D, ZeroPadding2D\n",
    "from keras import optimizers"
   ]
  },
  {
   "cell_type": "code",
   "execution_count": 2,
   "metadata": {},
   "outputs": [],
   "source": [
    "# Image Size\n",
    "img_width, img_height = 150, 150"
   ]
  },
  {
   "cell_type": "code",
   "execution_count": 3,
   "metadata": {},
   "outputs": [],
   "source": [
    "# Training Data Directory\n",
    "training_data_dir = 'data/Train'\n",
    "\n",
    "# Testing Data Directory\n",
    "testing_data_dir = 'data/Test'\n",
    "\n",
    "# Data Generator from Keras.Preprocessing\n",
    "datagen = ImageDataGenerator(rescale=1./255)"
   ]
  },
  {
   "cell_type": "code",
   "execution_count": 4,
   "metadata": {},
   "outputs": [
    {
     "name": "stdout",
     "output_type": "stream",
     "text": [
      "Found 2852 images belonging to 2 classes.\n",
      "Found 250 images belonging to 2 classes.\n"
     ]
    }
   ],
   "source": [
    "# Training Dataset generator\n",
    "training_dataset_generator = datagen.flow_from_directory(\n",
    "        training_data_dir,\n",
    "        target_size=(img_width, img_height),\n",
    "        batch_size=16,\n",
    "        class_mode='binary')\n",
    "\n",
    "# Testing Dataset generator\n",
    "testing_dataset_generator = datagen.flow_from_directory(\n",
    "        testing_data_dir,\n",
    "        target_size=(img_width, img_height),\n",
    "        batch_size=16,\n",
    "        class_mode='binary')"
   ]
  },
  {
   "cell_type": "code",
   "execution_count": 5,
   "metadata": {},
   "outputs": [
    {
     "name": "stderr",
     "output_type": "stream",
     "text": [
      "C:\\Users\\Hari\\Anaconda3\\lib\\site-packages\\ipykernel_launcher.py:10: UserWarning: Update your `Conv2D` call to the Keras 2 API: `Conv2D(32, (3, 3))`\n",
      "  # Remove the CWD from sys.path while we load stuff.\n",
      "C:\\Users\\Hari\\Anaconda3\\lib\\site-packages\\ipykernel_launcher.py:15: UserWarning: Update your `Conv2D` call to the Keras 2 API: `Conv2D(32, (3, 3))`\n",
      "  from ipykernel import kernelapp as app\n"
     ]
    }
   ],
   "source": [
    "# CNN Architecture\n",
    "model = Sequential()\n",
    "\n",
    "# Layer 1\n",
    "model.add(Convolution2D(32, (3, 3), input_shape = (img_width, img_height, 3)))\n",
    "model.add(MaxPooling2D(pool_size = (2, 2)))\n",
    "model.add(Activation('relu'))\n",
    "\n",
    "# Layer 2\n",
    "model.add(Convolution2D(32, 3, 3))\n",
    "model.add(MaxPooling2D(pool_size = (2, 2)))\n",
    "model.add(Activation('relu'))\n",
    "\n",
    "# Layer 3\n",
    "model.add(Convolution2D(32, 3, 3))\n",
    "model.add(MaxPooling2D(pool_size = (2, 2)))\n",
    "model.add(Activation('relu'))\n",
    "          \n",
    "# Layer 4\n",
    "model.add(Flatten())\n",
    "model.add(Dense(64))\n",
    "model.add(Activation('relu'))\n",
    "\n",
    "# Layer 5\n",
    "model.add(Dense(32))\n",
    "model.add(Activation('relu'))\n",
    "\n",
    "# Layer 6\n",
    "model.add(Dense(8))\n",
    "model.add(Activation('relu'))\n",
    "\n",
    "# Layer 7\n",
    "model.add(Dropout(0.5))\n",
    "model.add(Dense(1))\n",
    "model.add(Activation('sigmoid'))"
   ]
  },
  {
   "cell_type": "code",
   "execution_count": 6,
   "metadata": {},
   "outputs": [
    {
     "name": "stdout",
     "output_type": "stream",
     "text": [
      "_________________________________________________________________\n",
      "Layer (type)                 Output Shape              Param #   \n",
      "=================================================================\n",
      "conv2d_1 (Conv2D)            (None, 148, 148, 32)      896       \n",
      "_________________________________________________________________\n",
      "max_pooling2d_1 (MaxPooling2 (None, 74, 74, 32)        0         \n",
      "_________________________________________________________________\n",
      "activation_1 (Activation)    (None, 74, 74, 32)        0         \n",
      "_________________________________________________________________\n",
      "conv2d_2 (Conv2D)            (None, 72, 72, 32)        9248      \n",
      "_________________________________________________________________\n",
      "max_pooling2d_2 (MaxPooling2 (None, 36, 36, 32)        0         \n",
      "_________________________________________________________________\n",
      "activation_2 (Activation)    (None, 36, 36, 32)        0         \n",
      "_________________________________________________________________\n",
      "conv2d_3 (Conv2D)            (None, 34, 34, 32)        9248      \n",
      "_________________________________________________________________\n",
      "max_pooling2d_3 (MaxPooling2 (None, 17, 17, 32)        0         \n",
      "_________________________________________________________________\n",
      "activation_3 (Activation)    (None, 17, 17, 32)        0         \n",
      "_________________________________________________________________\n",
      "flatten_1 (Flatten)          (None, 9248)              0         \n",
      "_________________________________________________________________\n",
      "dense_1 (Dense)              (None, 64)                591936    \n",
      "_________________________________________________________________\n",
      "activation_4 (Activation)    (None, 64)                0         \n",
      "_________________________________________________________________\n",
      "dense_2 (Dense)              (None, 32)                2080      \n",
      "_________________________________________________________________\n",
      "activation_5 (Activation)    (None, 32)                0         \n",
      "_________________________________________________________________\n",
      "dropout_1 (Dropout)          (None, 32)                0         \n",
      "_________________________________________________________________\n",
      "dense_3 (Dense)              (None, 1)                 33        \n",
      "_________________________________________________________________\n",
      "activation_6 (Activation)    (None, 1)                 0         \n",
      "=================================================================\n",
      "Total params: 613,441\n",
      "Trainable params: 613,441\n",
      "Non-trainable params: 0\n",
      "_________________________________________________________________\n"
     ]
    }
   ],
   "source": [
    "# Model Description\n",
    "model.summary()"
   ]
  },
  {
   "cell_type": "code",
   "execution_count": 7,
   "metadata": {},
   "outputs": [],
   "source": [
    "# Model Definition\n",
    "model.compile(loss='binary_crossentropy',\n",
    "              optimizer='rmsprop',\n",
    "              metrics=['accuracy'])"
   ]
  },
  {
   "cell_type": "code",
   "execution_count": 8,
   "metadata": {},
   "outputs": [
    {
     "name": "stdout",
     "output_type": "stream",
     "text": [
      "Epoch 1/50\n",
      "31/31 [==============================] - 9s 303ms/step - loss: 0.6942 - acc: 0.5706 - val_loss: 0.5620 - val_acc: 0.7500\n",
      "Epoch 2/50\n",
      "31/31 [==============================] - 5s 167ms/step - loss: 0.5758 - acc: 0.7175 - val_loss: 0.3871 - val_acc: 0.8656\n",
      "Epoch 3/50\n",
      "31/31 [==============================] - 4s 145ms/step - loss: 0.4366 - acc: 0.8165 - val_loss: 0.4460 - val_acc: 0.7634\n",
      "Epoch 4/50\n",
      "31/31 [==============================] - 4s 143ms/step - loss: 0.4275 - acc: 0.8085 - val_loss: 0.3732 - val_acc: 0.8710\n",
      "Epoch 5/50\n",
      "31/31 [==============================] - 5s 151ms/step - loss: 0.3582 - acc: 0.8649 - val_loss: 0.4007 - val_acc: 0.8125\n",
      "Epoch 6/50\n",
      "31/31 [==============================] - 5s 175ms/step - loss: 0.2979 - acc: 0.9032 - val_loss: 0.3469 - val_acc: 0.8387\n",
      "Epoch 7/50\n",
      "31/31 [==============================] - 5s 148ms/step - loss: 0.3196 - acc: 0.8992 - val_loss: 0.2968 - val_acc: 0.8710\n",
      "Epoch 8/50\n",
      "31/31 [==============================] - 4s 119ms/step - loss: 0.2723 - acc: 0.8871 - val_loss: 0.2781 - val_acc: 0.9086\n",
      "Epoch 9/50\n",
      "31/31 [==============================] - 4s 131ms/step - loss: 0.3605 - acc: 0.8750 - val_loss: 0.3303 - val_acc: 0.8646\n",
      "Epoch 10/50\n",
      "31/31 [==============================] - 5s 151ms/step - loss: 0.2773 - acc: 0.9012 - val_loss: 0.3484 - val_acc: 0.8280\n",
      "Epoch 11/50\n",
      "31/31 [==============================] - 4s 138ms/step - loss: 0.3199 - acc: 0.8871 - val_loss: 0.3179 - val_acc: 0.8656\n",
      "Epoch 12/50\n",
      "31/31 [==============================] - 4s 134ms/step - loss: 0.2738 - acc: 0.8870 - val_loss: 0.2736 - val_acc: 0.8817\n",
      "Epoch 13/50\n",
      "31/31 [==============================] - 4s 136ms/step - loss: 0.2544 - acc: 0.9052 - val_loss: 0.3795 - val_acc: 0.8542\n",
      "Epoch 14/50\n",
      "31/31 [==============================] - 5s 157ms/step - loss: 0.2808 - acc: 0.9073 - val_loss: 0.3627 - val_acc: 0.8280\n",
      "Epoch 15/50\n",
      "31/31 [==============================] - 4s 139ms/step - loss: 0.2094 - acc: 0.9294 - val_loss: 0.4568 - val_acc: 0.9032\n",
      "Epoch 16/50\n",
      "31/31 [==============================] - 4s 138ms/step - loss: 0.2785 - acc: 0.9274 - val_loss: 0.3134 - val_acc: 0.8710\n",
      "Epoch 17/50\n",
      "31/31 [==============================] - 5s 150ms/step - loss: 0.2141 - acc: 0.9375 - val_loss: 0.3094 - val_acc: 0.8906\n",
      "Epoch 18/50\n",
      "31/31 [==============================] - 5s 152ms/step - loss: 0.2246 - acc: 0.9153 - val_loss: 0.2976 - val_acc: 0.8978\n",
      "Epoch 19/50\n",
      "31/31 [==============================] - 4s 137ms/step - loss: 0.1864 - acc: 0.9375 - val_loss: 0.3407 - val_acc: 0.8656\n",
      "Epoch 20/50\n",
      "31/31 [==============================] - 4s 135ms/step - loss: 0.2603 - acc: 0.9155 - val_loss: 0.2951 - val_acc: 0.8871\n",
      "Epoch 21/50\n",
      "31/31 [==============================] - 4s 144ms/step - loss: 0.1828 - acc: 0.9375 - val_loss: 0.2460 - val_acc: 0.9167\n",
      "Epoch 22/50\n",
      "31/31 [==============================] - 5s 153ms/step - loss: 0.2495 - acc: 0.9274 - val_loss: 0.2677 - val_acc: 0.8710\n",
      "Epoch 23/50\n",
      "31/31 [==============================] - 4s 135ms/step - loss: 0.2310 - acc: 0.9315 - val_loss: 0.3310 - val_acc: 0.8172\n",
      "Epoch 24/50\n",
      "31/31 [==============================] - 5s 153ms/step - loss: 0.2118 - acc: 0.9214 - val_loss: 0.2874 - val_acc: 0.8656\n",
      "Epoch 25/50\n",
      "31/31 [==============================] - 5s 151ms/step - loss: 0.1813 - acc: 0.9496 - val_loss: 0.2681 - val_acc: 0.9010\n",
      "Epoch 26/50\n",
      "31/31 [==============================] - 5s 161ms/step - loss: 0.1962 - acc: 0.9355 - val_loss: 0.4012 - val_acc: 0.8817\n",
      "Epoch 27/50\n",
      "31/31 [==============================] - 4s 141ms/step - loss: 0.2177 - acc: 0.9355 - val_loss: 0.5463 - val_acc: 0.8226\n",
      "Epoch 28/50\n",
      "31/31 [==============================] - 4s 137ms/step - loss: 0.1481 - acc: 0.9536 - val_loss: 0.3660 - val_acc: 0.8871\n",
      "Epoch 29/50\n",
      "31/31 [==============================] - 5s 153ms/step - loss: 0.1951 - acc: 0.9294 - val_loss: 0.4044 - val_acc: 0.8698\n",
      "Epoch 30/50\n",
      "31/31 [==============================] - 5s 148ms/step - loss: 0.1833 - acc: 0.9335 - val_loss: 0.2163 - val_acc: 0.9032\n",
      "Epoch 31/50\n",
      "31/31 [==============================] - 4s 140ms/step - loss: 0.1803 - acc: 0.9335 - val_loss: 0.2970 - val_acc: 0.8925\n",
      "Epoch 32/50\n",
      "31/31 [==============================] - 4s 141ms/step - loss: 0.1243 - acc: 0.9577 - val_loss: 0.3839 - val_acc: 0.8495\n",
      "Epoch 33/50\n",
      "31/31 [==============================] - 5s 156ms/step - loss: 0.2132 - acc: 0.9395 - val_loss: 0.2765 - val_acc: 0.9115\n",
      "Epoch 34/50\n",
      "31/31 [==============================] - 5s 174ms/step - loss: 0.1309 - acc: 0.9677 - val_loss: 0.3449 - val_acc: 0.8817\n",
      "Epoch 35/50\n",
      "31/31 [==============================] - 5s 145ms/step - loss: 0.1340 - acc: 0.9556 - val_loss: 0.2543 - val_acc: 0.9140\n",
      "Epoch 36/50\n",
      "31/31 [==============================] - 4s 141ms/step - loss: 0.1558 - acc: 0.9477 - val_loss: 0.3355 - val_acc: 0.8871\n",
      "Epoch 37/50\n",
      "31/31 [==============================] - 5s 152ms/step - loss: 0.1259 - acc: 0.9597 - val_loss: 0.4213 - val_acc: 0.8906\n",
      "Epoch 38/50\n",
      "31/31 [==============================] - 5s 177ms/step - loss: 0.1614 - acc: 0.9516 - val_loss: 0.2695 - val_acc: 0.8978\n",
      "Epoch 39/50\n",
      "31/31 [==============================] - 4s 140ms/step - loss: 0.1187 - acc: 0.9617 - val_loss: 0.2285 - val_acc: 0.9247\n",
      "Epoch 40/50\n",
      "31/31 [==============================] - 5s 159ms/step - loss: 0.2079 - acc: 0.9456 - val_loss: 0.3208 - val_acc: 0.8817\n",
      "Epoch 41/50\n",
      "31/31 [==============================] - 6s 180ms/step - loss: 0.0964 - acc: 0.9738 - val_loss: 0.3352 - val_acc: 0.8594\n",
      "Epoch 42/50\n",
      "31/31 [==============================] - 7s 212ms/step - loss: 0.0997 - acc: 0.9657 - val_loss: 0.2679 - val_acc: 0.9247\n",
      "Epoch 43/50\n",
      "31/31 [==============================] - 5s 167ms/step - loss: 0.0895 - acc: 0.9778 - val_loss: 0.3072 - val_acc: 0.9301\n",
      "Epoch 44/50\n",
      "31/31 [==============================] - 5s 158ms/step - loss: 0.1641 - acc: 0.9556 - val_loss: 0.3491 - val_acc: 0.8817\n",
      "Epoch 45/50\n",
      "31/31 [==============================] - 5s 154ms/step - loss: 0.1009 - acc: 0.9617 - val_loss: 0.3526 - val_acc: 0.8906\n",
      "Epoch 46/50\n",
      "31/31 [==============================] - 5s 172ms/step - loss: 0.1573 - acc: 0.9476 - val_loss: 0.3959 - val_acc: 0.8172\n",
      "Epoch 47/50\n",
      "31/31 [==============================] - 5s 164ms/step - loss: 0.1404 - acc: 0.9415 - val_loss: 0.3913 - val_acc: 0.8333\n",
      "Epoch 48/50\n",
      "31/31 [==============================] - 4s 137ms/step - loss: 0.1253 - acc: 0.9677 - val_loss: 0.6528 - val_acc: 0.7796\n",
      "Epoch 49/50\n",
      "31/31 [==============================] - 5s 158ms/step - loss: 0.1309 - acc: 0.9637 - val_loss: 0.4815 - val_acc: 0.8750\n",
      "Epoch 50/50\n",
      "31/31 [==============================] - 5s 172ms/step - loss: 0.0968 - acc: 0.9657 - val_loss: 0.4518 - val_acc: 0.8978\n"
     ]
    }
   ],
   "source": [
    "batch_size = 64\n",
    "\n",
    "# Training Model\n",
    "model.fit_generator(\n",
    "        training_dataset_generator,\n",
    "        steps_per_epoch=2000 // batch_size,\n",
    "        epochs=50,\n",
    "        validation_data=testing_dataset_generator,\n",
    "        validation_steps=800 // batch_size)\n",
    "\n",
    "# Saving Models\n",
    "model.save_weights('models/Panda_Koala_First_Run_50_Epochs.h5')"
   ]
  },
  {
   "cell_type": "code",
   "execution_count": 10,
   "metadata": {},
   "outputs": [
    {
     "data": {
      "text/plain": [
       "[0.4387856473399298, 0.8857868023330185]"
      ]
     },
     "execution_count": 10,
     "metadata": {},
     "output_type": "execute_result"
    }
   ],
   "source": [
    "# Evaluation Metric Generators\n",
    "model.evaluate_generator(testing_dataset_generator, 25)"
   ]
  },
  {
   "cell_type": "code",
   "execution_count": null,
   "metadata": {},
   "outputs": [],
   "source": []
  }
 ],
 "metadata": {
  "kernelspec": {
   "display_name": "Python 3",
   "language": "python",
   "name": "python3"
  },
  "language_info": {
   "codemirror_mode": {
    "name": "ipython",
    "version": 3
   },
   "file_extension": ".py",
   "mimetype": "text/x-python",
   "name": "python",
   "nbconvert_exporter": "python",
   "pygments_lexer": "ipython3",
   "version": "3.5.6"
  }
 },
 "nbformat": 4,
 "nbformat_minor": 2
}
